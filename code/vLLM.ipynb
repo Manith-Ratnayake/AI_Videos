{
  "cells": [
    {
      "cell_type": "code",
      "execution_count": null,
      "metadata": {
        "id": "lIYdn1woOS1n"
      },
      "outputs": [],
      "source": [
        "!pip install vllm -q\n",
        "!pip install -U \"huggingface_hub[cli]\" -q"
      ]
    },
    {
      "cell_type": "code",
      "source": [
        "# Input huggingface token\n",
        "!huggingface-cli login"
      ],
      "metadata": {
        "id": "hCrIOrau8FEt"
      },
      "execution_count": null,
      "outputs": []
    },
    {
      "cell_type": "code",
      "source": [
        "!nohup vllm serve mistralai/Mistral-7B-v0.1 --api-key token-abc123 --port 8000 --dtype half &"
      ],
      "metadata": {
        "id": "LgMCgEMY8HGk"
      },
      "execution_count": null,
      "outputs": []
    },
    {
      "cell_type": "code",
      "source": [
        "!pip install openai -q"
      ],
      "metadata": {
        "id": "W4wNAKyN8KqS"
      },
      "execution_count": null,
      "outputs": []
    },
    {
      "cell_type": "code",
      "source": [
        "# Sometimes might trigger Connection Error ---> retry until sucessful\n",
        "from openai import OpenAI\n",
        "\n",
        "client = OpenAI (\n",
        "    base_url = \"http://localhost:8000/v1\",\n",
        "    api_key = \"token-abc123\"\n",
        ")\n",
        "\n",
        "completion = client.chat.completions.create(\n",
        "    model = \"mistralai/Mistral-7B-v0.1\",\n",
        "    messages = [\n",
        "        {'role':'user', 'content':'What is 100 multilply by 95'}\n",
        "    ]\n",
        ")\n",
        "\n",
        "print(completion.choice[0].messages.content)"
      ],
      "metadata": {
        "id": "jLPVsLNi8NCe"
      },
      "execution_count": null,
      "outputs": []
    }
  ],
  "metadata": {
    "colab": {
      "name": "scratchpad",
      "provenance": []
    },
    "kernelspec": {
      "display_name": "Python 3",
      "name": "python3"
    }
  },
  "nbformat": 4,
  "nbformat_minor": 0
}